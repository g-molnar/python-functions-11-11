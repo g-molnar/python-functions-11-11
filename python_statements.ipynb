{
  "nbformat": 4,
  "nbformat_minor": 0,
  "metadata": {
    "colab": {
      "name": "python_statements.ipynb",
      "provenance": [],
      "authorship_tag": "ABX9TyMw4WvRaTA9lEi/N82lHhhf",
      "include_colab_link": true
    },
    "kernelspec": {
      "name": "python3",
      "display_name": "Python 3"
    },
    "language_info": {
      "name": "python"
    }
  },
  "cells": [
    {
      "cell_type": "markdown",
      "metadata": {
        "id": "view-in-github",
        "colab_type": "text"
      },
      "source": [
        "<a href=\"https://colab.research.google.com/github/g-molnar/python-statements/blob/main/python_statements.ipynb\" target=\"_parent\"><img src=\"https://colab.research.google.com/assets/colab-badge.svg\" alt=\"Open In Colab\"/></a>"
      ]
    },
    {
      "cell_type": "code",
      "execution_count": null,
      "metadata": {
        "id": "qSReCpsNowty"
      },
      "outputs": [],
      "source": [
        ""
      ]
    },
    {
      "cell_type": "markdown",
      "source": [
        "## Introduction to Statements"
      ],
      "metadata": {
        "id": "p8_VCF-ctw1a"
      }
    },
    {
      "cell_type": "code",
      "source": [
        "print (\"Hello World\")"
      ],
      "metadata": {
        "colab": {
          "base_uri": "https://localhost:8080/"
        },
        "id": "5EWcXw-6t1On",
        "outputId": "619767b3-b062-47bb-dee9-c5f977dd32c1"
      },
      "execution_count": 1,
      "outputs": [
        {
          "output_type": "stream",
          "name": "stdout",
          "text": [
            "Hello World\n"
          ]
        }
      ]
    },
    {
      "cell_type": "markdown",
      "source": [
        "## Defining Variables"
      ],
      "metadata": {
        "id": "-fJ7zeFmuFHi"
      }
    },
    {
      "cell_type": "code",
      "source": [
        ""
      ],
      "metadata": {
        "id": "mO4EIUoWuJGF"
      },
      "execution_count": null,
      "outputs": []
    },
    {
      "cell_type": "markdown",
      "source": [
        "## Loops"
      ],
      "metadata": {
        "id": "fZ8cjctjuLdW"
      }
    },
    {
      "cell_type": "code",
      "source": [
        "for i in range(10):\n",
        "    print(f\"This is the loop number: {i}\")"
      ],
      "metadata": {
        "colab": {
          "base_uri": "https://localhost:8080/"
        },
        "id": "UrHPTkJ0uNqR",
        "outputId": "f28edd4e-1213-46af-8115-fb81a83c79fd"
      },
      "execution_count": 2,
      "outputs": [
        {
          "output_type": "stream",
          "name": "stdout",
          "text": [
            "This is the loop number: 0\n",
            "This is the loop number: 1\n",
            "This is the loop number: 2\n",
            "This is the loop number: 3\n",
            "This is the loop number: 4\n",
            "This is the loop number: 5\n",
            "This is the loop number: 6\n",
            "This is the loop number: 7\n",
            "This is the loop number: 8\n",
            "This is the loop number: 9\n"
          ]
        }
      ]
    },
    {
      "cell_type": "markdown",
      "source": [
        "### List"
      ],
      "metadata": {
        "id": "zI3251H-usIC"
      }
    },
    {
      "cell_type": "code",
      "source": [
        "my_basket = [\"eggs\", \"butter\", \"apple\"]"
      ],
      "metadata": {
        "id": "su8e9q1NuuEf"
      },
      "execution_count": 4,
      "outputs": []
    },
    {
      "cell_type": "markdown",
      "source": [
        "Count items in basket"
      ],
      "metadata": {
        "id": "eUIkjLmmvWCl"
      }
    },
    {
      "cell_type": "code",
      "source": [
        "len(my_basket)"
      ],
      "metadata": {
        "colab": {
          "base_uri": "https://localhost:8080/"
        },
        "id": "NAPaHnhsu_Ru",
        "outputId": "73881447-885d-4825-b2bd-d6b1263d7591"
      },
      "execution_count": 7,
      "outputs": [
        {
          "output_type": "execute_result",
          "data": {
            "text/plain": [
              "3"
            ]
          },
          "metadata": {},
          "execution_count": 7
        }
      ]
    },
    {
      "cell_type": "code",
      "source": [
        "for food in my_basket:\n",
        "  print(f\"I am hungry and I am going to eat: {food}\")"
      ],
      "metadata": {
        "colab": {
          "base_uri": "https://localhost:8080/"
        },
        "id": "a8WNsC-Wvd2q",
        "outputId": "33c1abdb-1ee4-44cc-f317-5d6242083078"
      },
      "execution_count": 8,
      "outputs": [
        {
          "output_type": "stream",
          "name": "stdout",
          "text": [
            "I am hungry and I am going to eat: eggs\n",
            "I am hungry and I am going to eat: butter\n",
            "I am hungry and I am going to eat: apple\n"
          ]
        }
      ]
    },
    {
      "cell_type": "code",
      "source": [
        ""
      ],
      "metadata": {
        "id": "FqOvxkxvv31u"
      },
      "execution_count": null,
      "outputs": []
    }
  ]
}