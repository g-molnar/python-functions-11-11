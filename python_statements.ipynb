{
  "nbformat": 4,
  "nbformat_minor": 0,
  "metadata": {
    "colab": {
      "name": "python_statements.ipynb",
      "provenance": [],
      "authorship_tag": "ABX9TyNO8LRtD+MLSknB0zjs1Efv",
      "include_colab_link": true
    },
    "kernelspec": {
      "name": "python3",
      "display_name": "Python 3"
    },
    "language_info": {
      "name": "python"
    }
  },
  "cells": [
    {
      "cell_type": "markdown",
      "metadata": {
        "id": "view-in-github",
        "colab_type": "text"
      },
      "source": [
        "<a href=\"https://colab.research.google.com/github/g-molnar/python-statements/blob/main/python_statements.ipynb\" target=\"_parent\"><img src=\"https://colab.research.google.com/assets/colab-badge.svg\" alt=\"Open In Colab\"/></a>"
      ]
    },
    {
      "cell_type": "code",
      "execution_count": null,
      "metadata": {
        "id": "qSReCpsNowty"
      },
      "outputs": [],
      "source": [
        ""
      ]
    },
    {
      "cell_type": "markdown",
      "source": [
        "## Introduction to Statements"
      ],
      "metadata": {
        "id": "p8_VCF-ctw1a"
      }
    },
    {
      "cell_type": "code",
      "source": [
        "print (\"Hello World\")"
      ],
      "metadata": {
        "colab": {
          "base_uri": "https://localhost:8080/"
        },
        "id": "5EWcXw-6t1On",
        "outputId": "619767b3-b062-47bb-dee9-c5f977dd32c1"
      },
      "execution_count": 1,
      "outputs": [
        {
          "output_type": "stream",
          "name": "stdout",
          "text": [
            "Hello World\n"
          ]
        }
      ]
    },
    {
      "cell_type": "markdown",
      "source": [
        "## Defining Variables"
      ],
      "metadata": {
        "id": "-fJ7zeFmuFHi"
      }
    },
    {
      "cell_type": "code",
      "source": [
        ""
      ],
      "metadata": {
        "id": "mO4EIUoWuJGF"
      },
      "execution_count": null,
      "outputs": []
    },
    {
      "cell_type": "markdown",
      "source": [
        "## Loops"
      ],
      "metadata": {
        "id": "fZ8cjctjuLdW"
      }
    },
    {
      "cell_type": "code",
      "source": [
        "for i in range(10):\n",
        "    print(f\"This is the loop number: {i}\")"
      ],
      "metadata": {
        "colab": {
          "base_uri": "https://localhost:8080/"
        },
        "id": "UrHPTkJ0uNqR",
        "outputId": "f28edd4e-1213-46af-8115-fb81a83c79fd"
      },
      "execution_count": 2,
      "outputs": [
        {
          "output_type": "stream",
          "name": "stdout",
          "text": [
            "This is the loop number: 0\n",
            "This is the loop number: 1\n",
            "This is the loop number: 2\n",
            "This is the loop number: 3\n",
            "This is the loop number: 4\n",
            "This is the loop number: 5\n",
            "This is the loop number: 6\n",
            "This is the loop number: 7\n",
            "This is the loop number: 8\n",
            "This is the loop number: 9\n"
          ]
        }
      ]
    },
    {
      "cell_type": "markdown",
      "source": [
        "### List"
      ],
      "metadata": {
        "id": "zI3251H-usIC"
      }
    },
    {
      "cell_type": "code",
      "source": [
        "my_basket = [\"eggs\", \"butter\", \"apple\"]"
      ],
      "metadata": {
        "id": "su8e9q1NuuEf"
      },
      "execution_count": 4,
      "outputs": []
    },
    {
      "cell_type": "markdown",
      "source": [
        "Count items in basket"
      ],
      "metadata": {
        "id": "eUIkjLmmvWCl"
      }
    },
    {
      "cell_type": "code",
      "source": [
        "len(my_basket)"
      ],
      "metadata": {
        "colab": {
          "base_uri": "https://localhost:8080/"
        },
        "id": "NAPaHnhsu_Ru",
        "outputId": "73881447-885d-4825-b2bd-d6b1263d7591"
      },
      "execution_count": 7,
      "outputs": [
        {
          "output_type": "execute_result",
          "data": {
            "text/plain": [
              "3"
            ]
          },
          "metadata": {},
          "execution_count": 7
        }
      ]
    },
    {
      "cell_type": "code",
      "source": [
        "for food in my_basket:\n",
        "  print(f\"I am hungry and I am going to eat: {food}\")"
      ],
      "metadata": {
        "colab": {
          "base_uri": "https://localhost:8080/"
        },
        "id": "a8WNsC-Wvd2q",
        "outputId": "33c1abdb-1ee4-44cc-f317-5d6242083078"
      },
      "execution_count": 8,
      "outputs": [
        {
          "output_type": "stream",
          "name": "stdout",
          "text": [
            "I am hungry and I am going to eat: eggs\n",
            "I am hungry and I am going to eat: butter\n",
            "I am hungry and I am going to eat: apple\n"
          ]
        }
      ]
    },
    {
      "cell_type": "markdown",
      "source": [
        "### Dictionary"
      ],
      "metadata": {
        "id": "7Kf1m_v8xAWr"
      }
    },
    {
      "cell_type": "code",
      "source": [
        "my_dict = {\"one\": \"apple\", \"two\": \"eggs\", \"three\": \"butter\"}"
      ],
      "metadata": {
        "id": "6Jt8Hh-NxDlV"
      },
      "execution_count": 11,
      "outputs": []
    },
    {
      "cell_type": "code",
      "source": [
        "len(my_dict)"
      ],
      "metadata": {
        "colab": {
          "base_uri": "https://localhost:8080/"
        },
        "id": "cNz5BuiAxlbl",
        "outputId": "44ef0377-be94-4f7a-b26f-2062e8808258"
      },
      "execution_count": 12,
      "outputs": [
        {
          "output_type": "execute_result",
          "data": {
            "text/plain": [
              "3"
            ]
          },
          "metadata": {},
          "execution_count": 12
        }
      ]
    },
    {
      "cell_type": "code",
      "source": [
        "my_dict.keys()"
      ],
      "metadata": {
        "colab": {
          "base_uri": "https://localhost:8080/"
        },
        "id": "ziBWpYVBx3xU",
        "outputId": "82a7171c-8ca5-43ce-c9d5-b5c4ce8fe550"
      },
      "execution_count": 14,
      "outputs": [
        {
          "output_type": "execute_result",
          "data": {
            "text/plain": [
              "dict_keys(['one', 'two', 'three'])"
            ]
          },
          "metadata": {},
          "execution_count": 14
        }
      ]
    },
    {
      "cell_type": "code",
      "source": [
        "my_dict[\"one\"]"
      ],
      "metadata": {
        "colab": {
          "base_uri": "https://localhost:8080/",
          "height": 37
        },
        "id": "54PWaSqFyC6v",
        "outputId": "2220397c-efd9-4a8c-d416-90e95b7fbe33"
      },
      "execution_count": 15,
      "outputs": [
        {
          "output_type": "execute_result",
          "data": {
            "application/vnd.google.colaboratory.intrinsic+json": {
              "type": "string"
            },
            "text/plain": [
              "'apple'"
            ]
          },
          "metadata": {},
          "execution_count": 15
        }
      ]
    },
    {
      "cell_type": "markdown",
      "source": [
        "## 0(1) Lookup"
      ],
      "metadata": {
        "id": "EqYQwPGsyYPw"
      }
    },
    {
      "cell_type": "code",
      "source": [
        "\"one\" in my_dict"
      ],
      "metadata": {
        "colab": {
          "base_uri": "https://localhost:8080/"
        },
        "id": "DMVhEV0dyUCn",
        "outputId": "a44704d7-08b6-4a3c-bcf0-194d5baa7913"
      },
      "execution_count": 16,
      "outputs": [
        {
          "output_type": "execute_result",
          "data": {
            "text/plain": [
              "True"
            ]
          },
          "metadata": {},
          "execution_count": 16
        }
      ]
    },
    {
      "cell_type": "code",
      "source": [
        "\"five\" in my_dict"
      ],
      "metadata": {
        "colab": {
          "base_uri": "https://localhost:8080/"
        },
        "id": "Cmd4G9e_yfnW",
        "outputId": "43c0fabe-9bf8-47c9-a9cb-00531c32eced"
      },
      "execution_count": 17,
      "outputs": [
        {
          "output_type": "execute_result",
          "data": {
            "text/plain": [
              "False"
            ]
          },
          "metadata": {},
          "execution_count": 17
        }
      ]
    },
    {
      "cell_type": "code",
      "source": [
        "my_dict.values()"
      ],
      "metadata": {
        "colab": {
          "base_uri": "https://localhost:8080/"
        },
        "id": "ow2Myhsgyki0",
        "outputId": "195a485d-b9f9-41a4-c700-d6ce9322e803"
      },
      "execution_count": 18,
      "outputs": [
        {
          "output_type": "execute_result",
          "data": {
            "text/plain": [
              "dict_values(['apple', 'eggs', 'butter'])"
            ]
          },
          "metadata": {},
          "execution_count": 18
        }
      ]
    },
    {
      "cell_type": "markdown",
      "source": [
        "### Looping with dictionairy"
      ],
      "metadata": {
        "id": "MWgYjOn0yqxt"
      }
    },
    {
      "cell_type": "code",
      "source": [
        "for number, food in my_dict.items():\n",
        "    print(f\"This is {number}: This is food {food}\")"
      ],
      "metadata": {
        "colab": {
          "base_uri": "https://localhost:8080/"
        },
        "id": "uhTwBZRbyvp8",
        "outputId": "e7e9f0ff-9d85-45e4-82eb-c8f42ee19248"
      },
      "execution_count": 22,
      "outputs": [
        {
          "output_type": "stream",
          "name": "stdout",
          "text": [
            "This is one: This is food apple\n",
            "This is two: This is food eggs\n",
            "This is three: This is food butter\n"
          ]
        }
      ]
    },
    {
      "cell_type": "markdown",
      "source": [
        "### Math Statements"
      ],
      "metadata": {
        "id": "tWj9slRHzss7"
      }
    },
    {
      "cell_type": "markdown",
      "source": [
        "Use Pyrthon as calculator to learn it"
      ],
      "metadata": {
        "id": "960hghcMzvWc"
      }
    },
    {
      "cell_type": "code",
      "source": [
        "1+1"
      ],
      "metadata": {
        "colab": {
          "base_uri": "https://localhost:8080/"
        },
        "id": "f30t6ETSz3-3",
        "outputId": "f39446cd-09f9-4a9a-e99d-0cdfa6f310be"
      },
      "execution_count": 23,
      "outputs": [
        {
          "output_type": "execute_result",
          "data": {
            "text/plain": [
              "2"
            ]
          },
          "metadata": {},
          "execution_count": 23
        }
      ]
    },
    {
      "cell_type": "code",
      "source": [
        "100 * .20"
      ],
      "metadata": {
        "colab": {
          "base_uri": "https://localhost:8080/"
        },
        "id": "XdowR7xI0Bfc",
        "outputId": "eb47469f-7ba2-40fb-8c7a-31698756a018"
      },
      "execution_count": 24,
      "outputs": [
        {
          "output_type": "execute_result",
          "data": {
            "text/plain": [
              "20.0"
            ]
          },
          "metadata": {},
          "execution_count": 24
        }
      ]
    },
    {
      "cell_type": "code",
      "source": [
        "2**2"
      ],
      "metadata": {
        "colab": {
          "base_uri": "https://localhost:8080/"
        },
        "id": "craMRv7Y0FLd",
        "outputId": "bd065701-5ec2-4c40-c913-902868cc4113"
      },
      "execution_count": 25,
      "outputs": [
        {
          "output_type": "execute_result",
          "data": {
            "text/plain": [
              "4"
            ]
          },
          "metadata": {},
          "execution_count": 25
        }
      ]
    },
    {
      "cell_type": "markdown",
      "source": [
        "### Real World Math Problem (budget)"
      ],
      "metadata": {
        "id": "ipO5Fynu0MjI"
      }
    },
    {
      "cell_type": "code",
      "source": [
        "expenses = [5, 90, 200, 20000]"
      ],
      "metadata": {
        "id": "t3mbC_o30PUV"
      },
      "execution_count": 26,
      "outputs": []
    },
    {
      "cell_type": "code",
      "source": [
        "total = 0\n",
        "for expense in expenses:\n",
        "  total += expense\n",
        "  print(f\"Adding the following expenses: TOTAL {total}, EXPENSE {expense}\")"
      ],
      "metadata": {
        "colab": {
          "base_uri": "https://localhost:8080/"
        },
        "id": "0GGL7p1M0VXe",
        "outputId": "596256a6-c577-4087-c70e-c460b41e5d39"
      },
      "execution_count": 27,
      "outputs": [
        {
          "output_type": "stream",
          "name": "stdout",
          "text": [
            "Adding the following expenses: TOTAL 5, EXPENSE 5\n",
            "Adding the following expenses: TOTAL 95, EXPENSE 90\n",
            "Adding the following expenses: TOTAL 295, EXPENSE 200\n",
            "Adding the following expenses: TOTAL 20295, EXPENSE 20000\n"
          ]
        }
      ]
    }
  ]
}